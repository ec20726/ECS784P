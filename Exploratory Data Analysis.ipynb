{
 "cells": [
  {
   "cell_type": "markdown",
   "metadata": {},
   "source": [
    "## Importing of packages/modules"
   ]
  },
  {
   "cell_type": "code",
   "execution_count": 1,
   "metadata": {},
   "outputs": [],
   "source": [
    "import numpy as np\n",
    "import pandas as pd\n",
    "import matplotlib.pyplot as plt\n",
    "\n",
    "%matplotlib inline"
   ]
  },
  {
   "cell_type": "markdown",
   "metadata": {},
   "source": [
    "## Import raw data and process where necessary"
   ]
  },
  {
   "cell_type": "code",
   "execution_count": 2,
   "metadata": {},
   "outputs": [],
   "source": [
    "# Raw data held in a csv file which contains data regarding defence spending broken down by year and European county.\n",
    "# Data taken from The Organisation for Economic Co-operation and Development.\n",
    "\n",
    "oecd = pd.read_csv ('OECD_Defence_Copy.csv')"
   ]
  },
  {
   "cell_type": "code",
   "execution_count": 3,
   "metadata": {},
   "outputs": [],
   "source": [
    "# Drop unneeded columns from the data\n",
    "\n",
    "oecd_new = oecd.drop(['INDICATOR', 'SUBJECT', 'MEASURE', 'FREQUENCY', 'Flag Codes'],axis=1)"
   ]
  },
  {
   "cell_type": "code",
   "execution_count": 4,
   "metadata": {},
   "outputs": [],
   "source": [
    "# Replace names of countries with full country name, will enable easier merging of dataframes later.\n",
    "\n",
    "oecd_new = oecd_new.replace(['GRC', 'NLD', 'DEU', 'CZE', 'ITA', 'PRT', 'CHE', 'POL', 'SVK', 'SVN', 'IRL', 'BEL', 'ISL', 'SWE', 'ESP', 'NOR', 'AUT', 'EST', 'FRA', 'LUX', 'HUN', 'DNK', 'GBR', 'FIN', 'LVA', 'LTU'],\n",
    "                             ['Greece', 'Netherlands', 'Germany', 'Czech Republic', 'Italy', 'Portugal', 'Switzerland', 'Poland', 'Slovak Republic', 'Slovenia', 'Ireland', 'Belgium', 'Iceland', 'Sweden', 'Spain', 'Norway', 'Austria', 'Estonia', 'France', 'Luxembourg', 'Hungry', 'Denmark', 'United Kingdom', 'Finland', 'Latvia', 'Lithuania'])"
   ]
  },
  {
   "cell_type": "code",
   "execution_count": 5,
   "metadata": {},
   "outputs": [
    {
     "data": {
      "text/html": [
       "<div>\n",
       "<style scoped>\n",
       "    .dataframe tbody tr th:only-of-type {\n",
       "        vertical-align: middle;\n",
       "    }\n",
       "\n",
       "    .dataframe tbody tr th {\n",
       "        vertical-align: top;\n",
       "    }\n",
       "\n",
       "    .dataframe thead th {\n",
       "        text-align: right;\n",
       "    }\n",
       "</style>\n",
       "<table border=\"1\" class=\"dataframe\">\n",
       "  <thead>\n",
       "    <tr style=\"text-align: right;\">\n",
       "      <th></th>\n",
       "      <th>LOCATION</th>\n",
       "      <th>TIME</th>\n",
       "      <th>Value</th>\n",
       "    </tr>\n",
       "  </thead>\n",
       "  <tbody>\n",
       "    <tr>\n",
       "      <th>0</th>\n",
       "      <td>Greece</td>\n",
       "      <td>1999</td>\n",
       "      <td>3.348563</td>\n",
       "    </tr>\n",
       "    <tr>\n",
       "      <th>1</th>\n",
       "      <td>Greece</td>\n",
       "      <td>2000</td>\n",
       "      <td>2.394382</td>\n",
       "    </tr>\n",
       "    <tr>\n",
       "      <th>2</th>\n",
       "      <td>Greece</td>\n",
       "      <td>2001</td>\n",
       "      <td>2.582890</td>\n",
       "    </tr>\n",
       "    <tr>\n",
       "      <th>3</th>\n",
       "      <td>Greece</td>\n",
       "      <td>2002</td>\n",
       "      <td>2.888767</td>\n",
       "    </tr>\n",
       "    <tr>\n",
       "      <th>4</th>\n",
       "      <td>Greece</td>\n",
       "      <td>2003</td>\n",
       "      <td>3.645515</td>\n",
       "    </tr>\n",
       "    <tr>\n",
       "      <th>...</th>\n",
       "      <td>...</td>\n",
       "      <td>...</td>\n",
       "      <td>...</td>\n",
       "    </tr>\n",
       "    <tr>\n",
       "      <th>540</th>\n",
       "      <td>Lithuania</td>\n",
       "      <td>2015</td>\n",
       "      <td>1.257280</td>\n",
       "    </tr>\n",
       "    <tr>\n",
       "      <th>541</th>\n",
       "      <td>Lithuania</td>\n",
       "      <td>2016</td>\n",
       "      <td>1.478303</td>\n",
       "    </tr>\n",
       "    <tr>\n",
       "      <th>542</th>\n",
       "      <td>Lithuania</td>\n",
       "      <td>2017</td>\n",
       "      <td>1.624267</td>\n",
       "    </tr>\n",
       "    <tr>\n",
       "      <th>543</th>\n",
       "      <td>Lithuania</td>\n",
       "      <td>2018</td>\n",
       "      <td>1.719986</td>\n",
       "    </tr>\n",
       "    <tr>\n",
       "      <th>544</th>\n",
       "      <td>Lithuania</td>\n",
       "      <td>2019</td>\n",
       "      <td>1.643203</td>\n",
       "    </tr>\n",
       "  </tbody>\n",
       "</table>\n",
       "<p>545 rows × 3 columns</p>\n",
       "</div>"
      ],
      "text/plain": [
       "      LOCATION  TIME     Value\n",
       "0       Greece  1999  3.348563\n",
       "1       Greece  2000  2.394382\n",
       "2       Greece  2001  2.582890\n",
       "3       Greece  2002  2.888767\n",
       "4       Greece  2003  3.645515\n",
       "..         ...   ...       ...\n",
       "540  Lithuania  2015  1.257280\n",
       "541  Lithuania  2016  1.478303\n",
       "542  Lithuania  2017  1.624267\n",
       "543  Lithuania  2018  1.719986\n",
       "544  Lithuania  2019  1.643203\n",
       "\n",
       "[545 rows x 3 columns]"
      ]
     },
     "execution_count": 5,
     "metadata": {},
     "output_type": "execute_result"
    }
   ],
   "source": [
    "# View dataframe\n",
    "\n",
    "oecd_new"
   ]
  },
  {
   "cell_type": "code",
   "execution_count": 6,
   "metadata": {},
   "outputs": [],
   "source": [
    "# Use the groupby function to sort our dataframe via year with corrosponding GDP.\n",
    "\n",
    "group = oecd_new['Value'].groupby(oecd_new['TIME'])"
   ]
  },
  {
   "cell_type": "code",
   "execution_count": 7,
   "metadata": {},
   "outputs": [],
   "source": [
    "# Find the mean of the above for each year and store in the variable known as 'chart1' to be plotted\n",
    "\n",
    "chart1 = group.mean()"
   ]
  },
  {
   "cell_type": "code",
   "execution_count": 8,
   "metadata": {},
   "outputs": [
    {
     "data": {
      "text/plain": [
       "TIME\n",
       "1999    1.371186\n",
       "2000    1.298942\n",
       "2001    1.303915\n",
       "2002    1.343269\n",
       "2003    1.343362\n",
       "2004    1.291733\n",
       "2005    1.248385\n",
       "2006    1.249305\n",
       "2007    1.239909\n",
       "2008    1.257622\n",
       "2009    1.306751\n",
       "2010    1.263398\n",
       "2011    1.169252\n",
       "2012    1.134038\n",
       "2013    1.110970\n",
       "2014    1.078382\n",
       "2015    1.094506\n",
       "2016    1.136175\n",
       "2017    1.165843\n",
       "2018    1.166882\n",
       "2019    1.143560\n",
       "Name: Value, dtype: float64"
      ]
     },
     "execution_count": 8,
     "metadata": {},
     "output_type": "execute_result"
    }
   ],
   "source": [
    "chart1"
   ]
  },
  {
   "cell_type": "code",
   "execution_count": 9,
   "metadata": {},
   "outputs": [
    {
     "data": {
      "image/png": "[encoded data removed]",
      "text/plain": [
       "<Figure size 432x288 with 1 Axes>"
      ]
     },
     "metadata": {
      "needs_background": "light"
     },
     "output_type": "display_data"
    }
   ],
   "source": [
    "# Plot graph using above new series object. This shows us the total defence spending, by year, of all countries across the \n",
    "# time period from 1999 - 2019.\n",
    "\n",
    "plt.plot(chart1)\n",
    "np.arange (1999, 2019)\n",
    "plt.xticks (np.arange(1999,2020,step=2), rotation = 45)\n",
    "plt.title('European Defence Spending (GDP)')\n",
    "plt.xlabel('Years')\n",
    "plt.ylabel('GDP on Defence')\n",
    "plt.show()"
   ]
  },
  {
   "cell_type": "code",
   "execution_count": 10,
   "metadata": {},
   "outputs": [],
   "source": [
    "# Import Global Terror (GTD) dataset using pandas .read function to read in the .xlsx file into a dataframe.\n",
    "\n",
    "global_terror = pd.read_excel ('Global_Terror.xlsx')"
   ]
  },
  {
   "cell_type": "code",
   "execution_count": 11,
   "metadata": {},
   "outputs": [],
   "source": [
    "# Assign rows in dataset which take place before 1988 to varible 'index_names'\n",
    "\n",
    "index_names = global_terror[ global_terror['iyear'] <= 1998 ].index"
   ]
  },
  {
   "cell_type": "code",
   "execution_count": 12,
   "metadata": {},
   "outputs": [],
   "source": [
    "# Drop above from dataset\n",
    "\n",
    "global_terror.drop(index_names, inplace = True)"
   ]
  },
  {
   "cell_type": "code",
   "execution_count": 13,
   "metadata": {},
   "outputs": [],
   "source": [
    "# Assign some rows not belonging to western europe to varible called 'index_names2'\n",
    "\n",
    "index_names2 = global_terror[ global_terror['region'] <=7].index"
   ]
  },
  {
   "cell_type": "code",
   "execution_count": 14,
   "metadata": {},
   "outputs": [],
   "source": [
    "# Drop the above from the dataset\n",
    "\n",
    "global_terror.drop(index_names2, inplace = True)"
   ]
  },
  {
   "cell_type": "code",
   "execution_count": 15,
   "metadata": {},
   "outputs": [],
   "source": [
    "index_names3 = global_terror[ global_terror['region'] >=9].index"
   ]
  },
  {
   "cell_type": "code",
   "execution_count": 16,
   "metadata": {},
   "outputs": [],
   "source": [
    "global_terror.drop(index_names3, inplace = True)"
   ]
  },
  {
   "cell_type": "code",
   "execution_count": 17,
   "metadata": {},
   "outputs": [
    {
     "data": {
      "text/html": [
       "<div>\n",
       "<style scoped>\n",
       "    .dataframe tbody tr th:only-of-type {\n",
       "        vertical-align: middle;\n",
       "    }\n",
       "\n",
       "    .dataframe tbody tr th {\n",
       "        vertical-align: top;\n",
       "    }\n",
       "\n",
       "    .dataframe thead th {\n",
       "        text-align: right;\n",
       "    }\n",
       "</style>\n",
       "<table border=\"1\" class=\"dataframe\">\n",
       "  <thead>\n",
       "    <tr style=\"text-align: right;\">\n",
       "      <th></th>\n",
       "      <th>eventid</th>\n",
       "      <th>iyear</th>\n",
       "      <th>imonth</th>\n",
       "      <th>iday</th>\n",
       "      <th>approxdate</th>\n",
       "      <th>extended</th>\n",
       "      <th>resolution</th>\n",
       "      <th>country</th>\n",
       "      <th>country_txt</th>\n",
       "      <th>region</th>\n",
       "      <th>...</th>\n",
       "      <th>addnotes</th>\n",
       "      <th>scite1</th>\n",
       "      <th>scite2</th>\n",
       "      <th>scite3</th>\n",
       "      <th>dbsource</th>\n",
       "      <th>INT_LOG</th>\n",
       "      <th>INT_IDEO</th>\n",
       "      <th>INT_MISC</th>\n",
       "      <th>INT_ANY</th>\n",
       "      <th>related</th>\n",
       "    </tr>\n",
       "  </thead>\n",
       "  <tbody>\n",
       "  </tbody>\n",
       "</table>\n",
       "<p>0 rows × 135 columns</p>\n",
       "</div>"
      ],
      "text/plain": [
       "Empty DataFrame\n",
       "Columns: [eventid, iyear, imonth, iday, approxdate, extended, resolution, country, country_txt, region, region_txt, provstate, city, latitude, longitude, specificity, vicinity, location, summary, crit1, crit2, crit3, doubtterr, alternative, alternative_txt, multiple, success, suicide, attacktype1, attacktype1_txt, attacktype2, attacktype2_txt, attacktype3, attacktype3_txt, targtype1, targtype1_txt, targsubtype1, targsubtype1_txt, corp1, target1, natlty1, natlty1_txt, targtype2, targtype2_txt, targsubtype2, targsubtype2_txt, corp2, target2, natlty2, natlty2_txt, targtype3, targtype3_txt, targsubtype3, targsubtype3_txt, corp3, target3, natlty3, natlty3_txt, gname, gsubname, gname2, gsubname2, gname3, gsubname3, motive, guncertain1, guncertain2, guncertain3, individual, nperps, nperpcap, claimed, claimmode, claimmode_txt, claim2, claimmode2, claimmode2_txt, claim3, claimmode3, claimmode3_txt, compclaim, weaptype1, weaptype1_txt, weapsubtype1, weapsubtype1_txt, weaptype2, weaptype2_txt, weapsubtype2, weapsubtype2_txt, weaptype3, weaptype3_txt, weapsubtype3, weapsubtype3_txt, weaptype4, weaptype4_txt, weapsubtype4, weapsubtype4_txt, weapdetail, nkill, nkillus, ...]\n",
       "Index: []\n",
       "\n",
       "[0 rows x 135 columns]"
      ]
     },
     "execution_count": 17,
     "metadata": {},
     "output_type": "execute_result"
    }
   ],
   "source": [
    "# Check if there are any duplicated rows\n",
    "\n",
    "global_terror[global_terror.duplicated()]"
   ]
  },
  {
   "cell_type": "code",
   "execution_count": 18,
   "metadata": {},
   "outputs": [],
   "source": [
    "cols = [3,4,6,9,10,11,12,13,14,16,17,18,22,23,24,30,31,32,33,36,37,38,39,40,41,42,43,44,45,46,47,48,49,50,51,52,53,54,55,\n",
    "        56,57,58,59,60,61,62,63,64,65,66,67,68,70,71,72,73,74,75,76,77,78,79,80,81,82,83,84,85,86,87,88,89,90,91,92,93,94,\n",
    "       95,96,97,98,99,100,101,102,103,104,105,106,107,108,109,110,111,112,113,114,115,116,117,118,119,120,121,122,123,124,\n",
    "       125,126,127,128,129,130,131,132,133,134]"
   ]
  },
  {
   "cell_type": "code",
   "execution_count": 19,
   "metadata": {},
   "outputs": [],
   "source": [
    "# Drop columns of dataset which do not add anything to our dataframe. Focus here is on features which could arguably be\n",
    "# known before an attack were to take place.\n",
    "\n",
    "global_terror = global_terror.drop(global_terror.columns[cols], axis=1)"
   ]
  },
  {
   "cell_type": "code",
   "execution_count": 20,
   "metadata": {},
   "outputs": [],
   "source": [
    "# Merge our two data frames, GTD dataframe and our OECD (Defence Spending by European Country) dataframe.\n",
    "\n",
    "global_terror = global_terror.merge(oecd_new, left_on=['country_txt', 'iyear'], right_on=['LOCATION', 'TIME'])"
   ]
  },
  {
   "cell_type": "code",
   "execution_count": 21,
   "metadata": {},
   "outputs": [],
   "source": [
    "# Drop repeated columns as a result of the merge\n",
    "\n",
    "global_terror = global_terror.drop(['LOCATION', 'TIME'],axis=1)"
   ]
  },
  {
   "cell_type": "code",
   "execution_count": 22,
   "metadata": {},
   "outputs": [],
   "source": [
    "# Rename column to reflect the values held in that column\n",
    "\n",
    "global_terror = global_terror.rename(columns = {'Value':'Defence Spending GDP%'})"
   ]
  },
  {
   "cell_type": "code",
   "execution_count": 23,
   "metadata": {},
   "outputs": [
    {
     "data": {
      "text/html": [
       "<div>\n",
       "<style scoped>\n",
       "    .dataframe tbody tr th:only-of-type {\n",
       "        vertical-align: middle;\n",
       "    }\n",
       "\n",
       "    .dataframe tbody tr th {\n",
       "        vertical-align: top;\n",
       "    }\n",
       "\n",
       "    .dataframe thead th {\n",
       "        text-align: right;\n",
       "    }\n",
       "</style>\n",
       "<table border=\"1\" class=\"dataframe\">\n",
       "  <thead>\n",
       "    <tr style=\"text-align: right;\">\n",
       "      <th></th>\n",
       "      <th>eventid</th>\n",
       "      <th>iyear</th>\n",
       "      <th>imonth</th>\n",
       "      <th>extended</th>\n",
       "      <th>country</th>\n",
       "      <th>country_txt</th>\n",
       "      <th>specificity</th>\n",
       "      <th>crit1</th>\n",
       "      <th>crit2</th>\n",
       "      <th>crit3</th>\n",
       "      <th>multiple</th>\n",
       "      <th>success</th>\n",
       "      <th>suicide</th>\n",
       "      <th>attacktype1</th>\n",
       "      <th>attacktype1_txt</th>\n",
       "      <th>targtype1</th>\n",
       "      <th>targtype1_txt</th>\n",
       "      <th>nperps</th>\n",
       "      <th>Defence Spending GDP%</th>\n",
       "    </tr>\n",
       "  </thead>\n",
       "  <tbody>\n",
       "    <tr>\n",
       "      <th>0</th>\n",
       "      <td>199901030001</td>\n",
       "      <td>1999</td>\n",
       "      <td>1</td>\n",
       "      <td>0</td>\n",
       "      <td>78</td>\n",
       "      <td>Greece</td>\n",
       "      <td>1.0</td>\n",
       "      <td>1</td>\n",
       "      <td>1</td>\n",
       "      <td>1</td>\n",
       "      <td>0</td>\n",
       "      <td>1</td>\n",
       "      <td>0</td>\n",
       "      <td>3</td>\n",
       "      <td>Bombing/Explosion</td>\n",
       "      <td>8</td>\n",
       "      <td>Educational Institution</td>\n",
       "      <td>NaN</td>\n",
       "      <td>3.348563</td>\n",
       "    </tr>\n",
       "    <tr>\n",
       "      <th>1</th>\n",
       "      <td>199901110001</td>\n",
       "      <td>1999</td>\n",
       "      <td>1</td>\n",
       "      <td>0</td>\n",
       "      <td>78</td>\n",
       "      <td>Greece</td>\n",
       "      <td>1.0</td>\n",
       "      <td>1</td>\n",
       "      <td>1</td>\n",
       "      <td>1</td>\n",
       "      <td>0</td>\n",
       "      <td>1</td>\n",
       "      <td>0</td>\n",
       "      <td>7</td>\n",
       "      <td>Facility/Infrastructure Attack</td>\n",
       "      <td>2</td>\n",
       "      <td>Government (General)</td>\n",
       "      <td>NaN</td>\n",
       "      <td>3.348563</td>\n",
       "    </tr>\n",
       "    <tr>\n",
       "      <th>2</th>\n",
       "      <td>199902080002</td>\n",
       "      <td>1999</td>\n",
       "      <td>2</td>\n",
       "      <td>0</td>\n",
       "      <td>78</td>\n",
       "      <td>Greece</td>\n",
       "      <td>1.0</td>\n",
       "      <td>1</td>\n",
       "      <td>1</td>\n",
       "      <td>1</td>\n",
       "      <td>0</td>\n",
       "      <td>0</td>\n",
       "      <td>0</td>\n",
       "      <td>3</td>\n",
       "      <td>Bombing/Explosion</td>\n",
       "      <td>7</td>\n",
       "      <td>Government (Diplomatic)</td>\n",
       "      <td>NaN</td>\n",
       "      <td>3.348563</td>\n",
       "    </tr>\n",
       "    <tr>\n",
       "      <th>3</th>\n",
       "      <td>199903220001</td>\n",
       "      <td>1999</td>\n",
       "      <td>3</td>\n",
       "      <td>0</td>\n",
       "      <td>78</td>\n",
       "      <td>Greece</td>\n",
       "      <td>1.0</td>\n",
       "      <td>1</td>\n",
       "      <td>1</td>\n",
       "      <td>1</td>\n",
       "      <td>1</td>\n",
       "      <td>1</td>\n",
       "      <td>0</td>\n",
       "      <td>3</td>\n",
       "      <td>Bombing/Explosion</td>\n",
       "      <td>1</td>\n",
       "      <td>Business</td>\n",
       "      <td>NaN</td>\n",
       "      <td>3.348563</td>\n",
       "    </tr>\n",
       "    <tr>\n",
       "      <th>4</th>\n",
       "      <td>199903220002</td>\n",
       "      <td>1999</td>\n",
       "      <td>3</td>\n",
       "      <td>0</td>\n",
       "      <td>78</td>\n",
       "      <td>Greece</td>\n",
       "      <td>1.0</td>\n",
       "      <td>1</td>\n",
       "      <td>1</td>\n",
       "      <td>1</td>\n",
       "      <td>1</td>\n",
       "      <td>0</td>\n",
       "      <td>0</td>\n",
       "      <td>3</td>\n",
       "      <td>Bombing/Explosion</td>\n",
       "      <td>1</td>\n",
       "      <td>Business</td>\n",
       "      <td>NaN</td>\n",
       "      <td>3.348563</td>\n",
       "    </tr>\n",
       "    <tr>\n",
       "      <th>...</th>\n",
       "      <td>...</td>\n",
       "      <td>...</td>\n",
       "      <td>...</td>\n",
       "      <td>...</td>\n",
       "      <td>...</td>\n",
       "      <td>...</td>\n",
       "      <td>...</td>\n",
       "      <td>...</td>\n",
       "      <td>...</td>\n",
       "      <td>...</td>\n",
       "      <td>...</td>\n",
       "      <td>...</td>\n",
       "      <td>...</td>\n",
       "      <td>...</td>\n",
       "      <td>...</td>\n",
       "      <td>...</td>\n",
       "      <td>...</td>\n",
       "      <td>...</td>\n",
       "      <td>...</td>\n",
       "    </tr>\n",
       "    <tr>\n",
       "      <th>3778</th>\n",
       "      <td>201909170004</td>\n",
       "      <td>2019</td>\n",
       "      <td>9</td>\n",
       "      <td>0</td>\n",
       "      <td>98</td>\n",
       "      <td>Italy</td>\n",
       "      <td>1.0</td>\n",
       "      <td>1</td>\n",
       "      <td>1</td>\n",
       "      <td>0</td>\n",
       "      <td>0</td>\n",
       "      <td>1</td>\n",
       "      <td>0</td>\n",
       "      <td>2</td>\n",
       "      <td>Armed Assault</td>\n",
       "      <td>4</td>\n",
       "      <td>Military</td>\n",
       "      <td>1.0</td>\n",
       "      <td>1.266261</td>\n",
       "    </tr>\n",
       "    <tr>\n",
       "      <th>3779</th>\n",
       "      <td>201904220009</td>\n",
       "      <td>2019</td>\n",
       "      <td>4</td>\n",
       "      <td>0</td>\n",
       "      <td>199</td>\n",
       "      <td>Switzerland</td>\n",
       "      <td>1.0</td>\n",
       "      <td>1</td>\n",
       "      <td>1</td>\n",
       "      <td>1</td>\n",
       "      <td>0</td>\n",
       "      <td>0</td>\n",
       "      <td>0</td>\n",
       "      <td>7</td>\n",
       "      <td>Facility/Infrastructure Attack</td>\n",
       "      <td>7</td>\n",
       "      <td>Government (Diplomatic)</td>\n",
       "      <td>-99.0</td>\n",
       "      <td>0.815365</td>\n",
       "    </tr>\n",
       "    <tr>\n",
       "      <th>3780</th>\n",
       "      <td>201908060012</td>\n",
       "      <td>2019</td>\n",
       "      <td>8</td>\n",
       "      <td>0</td>\n",
       "      <td>55</td>\n",
       "      <td>Denmark</td>\n",
       "      <td>1.0</td>\n",
       "      <td>1</td>\n",
       "      <td>1</td>\n",
       "      <td>1</td>\n",
       "      <td>0</td>\n",
       "      <td>1</td>\n",
       "      <td>0</td>\n",
       "      <td>3</td>\n",
       "      <td>Bombing/Explosion</td>\n",
       "      <td>2</td>\n",
       "      <td>Government (General)</td>\n",
       "      <td>2.0</td>\n",
       "      <td>1.122569</td>\n",
       "    </tr>\n",
       "    <tr>\n",
       "      <th>3781</th>\n",
       "      <td>201908100012</td>\n",
       "      <td>2019</td>\n",
       "      <td>8</td>\n",
       "      <td>0</td>\n",
       "      <td>55</td>\n",
       "      <td>Denmark</td>\n",
       "      <td>1.0</td>\n",
       "      <td>1</td>\n",
       "      <td>1</td>\n",
       "      <td>1</td>\n",
       "      <td>0</td>\n",
       "      <td>1</td>\n",
       "      <td>0</td>\n",
       "      <td>3</td>\n",
       "      <td>Bombing/Explosion</td>\n",
       "      <td>3</td>\n",
       "      <td>Police</td>\n",
       "      <td>-99.0</td>\n",
       "      <td>1.122569</td>\n",
       "    </tr>\n",
       "    <tr>\n",
       "      <th>3782</th>\n",
       "      <td>201911100004</td>\n",
       "      <td>2019</td>\n",
       "      <td>11</td>\n",
       "      <td>0</td>\n",
       "      <td>21</td>\n",
       "      <td>Belgium</td>\n",
       "      <td>1.0</td>\n",
       "      <td>1</td>\n",
       "      <td>1</td>\n",
       "      <td>1</td>\n",
       "      <td>0</td>\n",
       "      <td>1</td>\n",
       "      <td>0</td>\n",
       "      <td>7</td>\n",
       "      <td>Facility/Infrastructure Attack</td>\n",
       "      <td>14</td>\n",
       "      <td>Private Citizens &amp; Property</td>\n",
       "      <td>-99.0</td>\n",
       "      <td>0.790797</td>\n",
       "    </tr>\n",
       "  </tbody>\n",
       "</table>\n",
       "<p>3783 rows × 19 columns</p>\n",
       "</div>"
      ],
      "text/plain": [
       "           eventid  iyear  imonth  extended  country  country_txt  \\\n",
       "0     199901030001   1999       1         0       78       Greece   \n",
       "1     199901110001   1999       1         0       78       Greece   \n",
       "2     199902080002   1999       2         0       78       Greece   \n",
       "3     199903220001   1999       3         0       78       Greece   \n",
       "4     199903220002   1999       3         0       78       Greece   \n",
       "...            ...    ...     ...       ...      ...          ...   \n",
       "3778  201909170004   2019       9         0       98        Italy   \n",
       "3779  201904220009   2019       4         0      199  Switzerland   \n",
       "3780  201908060012   2019       8         0       55      Denmark   \n",
       "3781  201908100012   2019       8         0       55      Denmark   \n",
       "3782  201911100004   2019      11         0       21      Belgium   \n",
       "\n",
       "      specificity  crit1  crit2  crit3  multiple  success  suicide  \\\n",
       "0             1.0      1      1      1         0        1        0   \n",
       "1             1.0      1      1      1         0        1        0   \n",
       "2             1.0      1      1      1         0        0        0   \n",
       "3             1.0      1      1      1         1        1        0   \n",
       "4             1.0      1      1      1         1        0        0   \n",
       "...           ...    ...    ...    ...       ...      ...      ...   \n",
       "3778          1.0      1      1      0         0        1        0   \n",
       "3779          1.0      1      1      1         0        0        0   \n",
       "3780          1.0      1      1      1         0        1        0   \n",
       "3781          1.0      1      1      1         0        1        0   \n",
       "3782          1.0      1      1      1         0        1        0   \n",
       "\n",
       "      attacktype1                 attacktype1_txt  targtype1  \\\n",
       "0               3               Bombing/Explosion          8   \n",
       "1               7  Facility/Infrastructure Attack          2   \n",
       "2               3               Bombing/Explosion          7   \n",
       "3               3               Bombing/Explosion          1   \n",
       "4               3               Bombing/Explosion          1   \n",
       "...           ...                             ...        ...   \n",
       "3778            2                   Armed Assault          4   \n",
       "3779            7  Facility/Infrastructure Attack          7   \n",
       "3780            3               Bombing/Explosion          2   \n",
       "3781            3               Bombing/Explosion          3   \n",
       "3782            7  Facility/Infrastructure Attack         14   \n",
       "\n",
       "                    targtype1_txt  nperps  Defence Spending GDP%  \n",
       "0         Educational Institution     NaN               3.348563  \n",
       "1            Government (General)     NaN               3.348563  \n",
       "2         Government (Diplomatic)     NaN               3.348563  \n",
       "3                        Business     NaN               3.348563  \n",
       "4                        Business     NaN               3.348563  \n",
       "...                           ...     ...                    ...  \n",
       "3778                     Military     1.0               1.266261  \n",
       "3779      Government (Diplomatic)   -99.0               0.815365  \n",
       "3780         Government (General)     2.0               1.122569  \n",
       "3781                       Police   -99.0               1.122569  \n",
       "3782  Private Citizens & Property   -99.0               0.790797  \n",
       "\n",
       "[3783 rows x 19 columns]"
      ]
     },
     "execution_count": 23,
     "metadata": {},
     "output_type": "execute_result"
    }
   ],
   "source": [
    "# Dataframe following changes above, columns will still need to be removed.\n",
    "\n",
    "global_terror"
   ]
  },
  {
   "cell_type": "code",
   "execution_count": 24,
   "metadata": {},
   "outputs": [],
   "source": [
    "cols2 = [2,3,4,5,6,7,8,9,10,12,13,14,15,16,17,18]"
   ]
  },
  {
   "cell_type": "code",
   "execution_count": 25,
   "metadata": {},
   "outputs": [],
   "source": [
    "# Create a variable called 'base_chart' with only a few features\n",
    "\n",
    "base_chart = global_terror.drop(global_terror.columns[cols2], axis=1)"
   ]
  },
  {
   "cell_type": "code",
   "execution_count": 62,
   "metadata": {},
   "outputs": [
    {
     "name": "stdout",
     "output_type": "stream",
     "text": [
      "                              0\n",
      "crit1                 -0.029197\n",
      "imonth                -0.025918\n",
      "crit2                 -0.020668\n",
      "crit3                 -0.006789\n",
      "extended              -0.001353\n",
      "nperps                 0.024692\n",
      "suicide                0.026823\n",
      "multiple               0.064446\n",
      "specificity            0.071239\n",
      "Defence Spending GDP%  0.079972\n",
      "success                1.000000\n"
     ]
    }
   ],
   "source": [
    "global_terror2 = global_terror.drop(['eventid', 'iyear', 'country', 'attacktype1', 'targtype1'],axis=1)\n",
    "global_terror2.loc[(global_terror2.nperps == -99),'nperps']= None\n",
    "global_terror2.nperps.fillna(global_terror2.nperps.mean(), inplace=True)\n",
    "correlation = pd.DataFrame(global_terror2.corrwith(global_terror2[\"success\"]))\n",
    "correlation = correlation.sort_values(correlation.columns[0])\n",
    "print(correlation)"
   ]
  },
  {
   "cell_type": "code",
   "execution_count": 27,
   "metadata": {},
   "outputs": [],
   "source": [
    "# variable created which stores the details of all attacks which were not\n",
    "# successful\n",
    "\n",
    "filter_success = base_chart[ base_chart['success'] <= 0].index"
   ]
  },
  {
   "cell_type": "code",
   "execution_count": 28,
   "metadata": {},
   "outputs": [],
   "source": [
    "# New variable called 'base_chart_b' contains only attacks that were a success\n",
    "\n",
    "base_chart_b = base_chart.drop(filter_success)"
   ]
  },
  {
   "cell_type": "code",
   "execution_count": 29,
   "metadata": {},
   "outputs": [],
   "source": [
    "# Count the total attacks per year\n",
    "\n",
    "base_chart = base_chart.groupby(['iyear'])['eventid'].count()"
   ]
  },
  {
   "cell_type": "code",
   "execution_count": 30,
   "metadata": {},
   "outputs": [],
   "source": [
    "# Place the result of the above in a dataframe\n",
    "\n",
    "base_chart = pd.DataFrame(base_chart)"
   ]
  },
  {
   "cell_type": "code",
   "execution_count": 31,
   "metadata": {},
   "outputs": [],
   "source": [
    "# Count the number of attacks that were successful\n",
    "\n",
    "base_chart_b = base_chart_b.groupby(['iyear'])['eventid'].count()"
   ]
  },
  {
   "cell_type": "code",
   "execution_count": 32,
   "metadata": {},
   "outputs": [],
   "source": [
    "# Place the above in a dataframe\n",
    "\n",
    "base_chart_b = pd.DataFrame(base_chart_b)"
   ]
  },
  {
   "cell_type": "code",
   "execution_count": 33,
   "metadata": {},
   "outputs": [],
   "source": [
    "# Combine dataframe with total attacks per year and dataframe with total \n",
    "# successful attacks per year\n",
    "\n",
    "chart2 = pd.merge(base_chart,base_chart_b,on='iyear')"
   ]
  },
  {
   "cell_type": "code",
   "execution_count": 34,
   "metadata": {},
   "outputs": [],
   "source": [
    "# Rename columns to better reflect the values they hold\n",
    "\n",
    "chart2.rename(columns = {'eventid_x':'Total Attacks', 'eventid_y':'Successful Attacks'}, inplace = True)"
   ]
  },
  {
   "cell_type": "code",
   "execution_count": 35,
   "metadata": {},
   "outputs": [],
   "source": [
    "# Order of columns changed\n",
    "\n",
    "chart2 = chart2 [['Successful Attacks', 'Total Attacks']]"
   ]
  },
  {
   "cell_type": "code",
   "execution_count": 36,
   "metadata": {},
   "outputs": [],
   "source": [
    "# New column added to record unsuccessful attacks\n",
    "\n",
    "chart2['Unsuccessful Attacks'] = chart2['Total Attacks'] - chart2['Successful Attacks']"
   ]
  },
  {
   "cell_type": "code",
   "execution_count": 37,
   "metadata": {},
   "outputs": [],
   "source": [
    "# Total attacks column dropped so we can show just succsesful and unsuccessful\n",
    "# attacks. This means we can now show them on a stacked bar graph.\n",
    "\n",
    "chart2 = chart2.drop(['Total Attacks'],axis=1)"
   ]
  },
  {
   "cell_type": "code",
   "execution_count": 38,
   "metadata": {},
   "outputs": [
    {
     "data": {
      "text/html": [
       "<div>\n",
       "<style scoped>\n",
       "    .dataframe tbody tr th:only-of-type {\n",
       "        vertical-align: middle;\n",
       "    }\n",
       "\n",
       "    .dataframe tbody tr th {\n",
       "        vertical-align: top;\n",
       "    }\n",
       "\n",
       "    .dataframe thead th {\n",
       "        text-align: right;\n",
       "    }\n",
       "</style>\n",
       "<table border=\"1\" class=\"dataframe\">\n",
       "  <thead>\n",
       "    <tr style=\"text-align: right;\">\n",
       "      <th></th>\n",
       "      <th>Successful Attacks</th>\n",
       "      <th>Unsuccessful Attacks</th>\n",
       "    </tr>\n",
       "    <tr>\n",
       "      <th>iyear</th>\n",
       "      <th></th>\n",
       "      <th></th>\n",
       "    </tr>\n",
       "  </thead>\n",
       "  <tbody>\n",
       "    <tr>\n",
       "      <th>1999</th>\n",
       "      <td>189</td>\n",
       "      <td>46</td>\n",
       "    </tr>\n",
       "    <tr>\n",
       "      <th>2000</th>\n",
       "      <td>209</td>\n",
       "      <td>42</td>\n",
       "    </tr>\n",
       "    <tr>\n",
       "      <th>2001</th>\n",
       "      <td>182</td>\n",
       "      <td>51</td>\n",
       "    </tr>\n",
       "    <tr>\n",
       "      <th>2002</th>\n",
       "      <td>100</td>\n",
       "      <td>19</td>\n",
       "    </tr>\n",
       "    <tr>\n",
       "      <th>2003</th>\n",
       "      <td>89</td>\n",
       "      <td>32</td>\n",
       "    </tr>\n",
       "    <tr>\n",
       "      <th>2004</th>\n",
       "      <td>49</td>\n",
       "      <td>9</td>\n",
       "    </tr>\n",
       "    <tr>\n",
       "      <th>2005</th>\n",
       "      <td>98</td>\n",
       "      <td>6</td>\n",
       "    </tr>\n",
       "    <tr>\n",
       "      <th>2006</th>\n",
       "      <td>84</td>\n",
       "      <td>14</td>\n",
       "    </tr>\n",
       "    <tr>\n",
       "      <th>2007</th>\n",
       "      <td>65</td>\n",
       "      <td>10</td>\n",
       "    </tr>\n",
       "    <tr>\n",
       "      <th>2008</th>\n",
       "      <td>139</td>\n",
       "      <td>23</td>\n",
       "    </tr>\n",
       "    <tr>\n",
       "      <th>2009</th>\n",
       "      <td>173</td>\n",
       "      <td>9</td>\n",
       "    </tr>\n",
       "    <tr>\n",
       "      <th>2010</th>\n",
       "      <td>89</td>\n",
       "      <td>44</td>\n",
       "    </tr>\n",
       "    <tr>\n",
       "      <th>2011</th>\n",
       "      <td>56</td>\n",
       "      <td>39</td>\n",
       "    </tr>\n",
       "    <tr>\n",
       "      <th>2012</th>\n",
       "      <td>128</td>\n",
       "      <td>64</td>\n",
       "    </tr>\n",
       "    <tr>\n",
       "      <th>2013</th>\n",
       "      <td>146</td>\n",
       "      <td>106</td>\n",
       "    </tr>\n",
       "    <tr>\n",
       "      <th>2014</th>\n",
       "      <td>139</td>\n",
       "      <td>72</td>\n",
       "    </tr>\n",
       "    <tr>\n",
       "      <th>2015</th>\n",
       "      <td>243</td>\n",
       "      <td>91</td>\n",
       "    </tr>\n",
       "    <tr>\n",
       "      <th>2016</th>\n",
       "      <td>204</td>\n",
       "      <td>66</td>\n",
       "    </tr>\n",
       "    <tr>\n",
       "      <th>2017</th>\n",
       "      <td>218</td>\n",
       "      <td>75</td>\n",
       "    </tr>\n",
       "    <tr>\n",
       "      <th>2018</th>\n",
       "      <td>164</td>\n",
       "      <td>39</td>\n",
       "    </tr>\n",
       "    <tr>\n",
       "      <th>2019</th>\n",
       "      <td>112</td>\n",
       "      <td>50</td>\n",
       "    </tr>\n",
       "  </tbody>\n",
       "</table>\n",
       "</div>"
      ],
      "text/plain": [
       "       Successful Attacks  Unsuccessful Attacks\n",
       "iyear                                          \n",
       "1999                  189                    46\n",
       "2000                  209                    42\n",
       "2001                  182                    51\n",
       "2002                  100                    19\n",
       "2003                   89                    32\n",
       "2004                   49                     9\n",
       "2005                   98                     6\n",
       "2006                   84                    14\n",
       "2007                   65                    10\n",
       "2008                  139                    23\n",
       "2009                  173                     9\n",
       "2010                   89                    44\n",
       "2011                   56                    39\n",
       "2012                  128                    64\n",
       "2013                  146                   106\n",
       "2014                  139                    72\n",
       "2015                  243                    91\n",
       "2016                  204                    66\n",
       "2017                  218                    75\n",
       "2018                  164                    39\n",
       "2019                  112                    50"
      ]
     },
     "execution_count": 38,
     "metadata": {},
     "output_type": "execute_result"
    }
   ],
   "source": [
    "chart2"
   ]
  },
  {
   "cell_type": "code",
   "execution_count": 39,
   "metadata": {},
   "outputs": [
    {
     "data": {
      "text/plain": [
       "<matplotlib.legend.Legend at 0x231404b65b0>"
      ]
     },
     "execution_count": 39,
     "metadata": {},
     "output_type": "execute_result"
    },
    {
     "data": {
      "image/png": "[encoded data removed]",
      "text/plain": [
       "<Figure size 432x288 with 1 Axes>"
      ]
     },
     "metadata": {
      "needs_background": "light"
     },
     "output_type": "display_data"
    }
   ],
   "source": [
    "# Above is placed in a stacked bar chart which allows us to easily contrast\n",
    "# total, successful and unsuccessful attacks over a two decade period\n",
    "\n",
    "chart2.plot.bar(width = 0.8, color = ['Blue', 'Orange'], stacked=True)\n",
    "plt.title('Unsuccessful Vs Successful Attacks')\n",
    "plt.xlabel('Years')\n",
    "plt.ylabel('Number of Attacks')\n",
    "plt.legend(loc='upper left')"
   ]
  },
  {
   "cell_type": "code",
   "execution_count": 40,
   "metadata": {},
   "outputs": [],
   "source": [
    "cols3 = [1,2,3,4,5,6,7,8,9,10,11,12,13,15,16,17,18]"
   ]
  },
  {
   "cell_type": "code",
   "execution_count": 41,
   "metadata": {},
   "outputs": [],
   "source": [
    "# Create new variable called base_pie \n",
    "\n",
    "base_pie = global_terror.drop(global_terror.columns[cols3], axis=1)"
   ]
  },
  {
   "cell_type": "code",
   "execution_count": 42,
   "metadata": {},
   "outputs": [],
   "source": [
    "# Count the number of different attack types used since 1999 - 2019 and place\n",
    "# this in a new dataframe.\n",
    "\n",
    "base_pie_2 = pd.DataFrame(base_pie['attacktype1_txt'].value_counts(ascending=True))"
   ]
  },
  {
   "cell_type": "code",
   "execution_count": 43,
   "metadata": {},
   "outputs": [],
   "source": [
    "# Create a new column which turns this count into a percentage of all attacks\n",
    "\n",
    "base_pie_2['Percentage'] = base_pie_2['attacktype1_txt']/3783*100"
   ]
  },
  {
   "cell_type": "code",
   "execution_count": 44,
   "metadata": {},
   "outputs": [],
   "source": [
    "base_pie_2 = base_pie_2.drop(['attacktype1_txt'],axis=1)"
   ]
  },
  {
   "cell_type": "code",
   "execution_count": 45,
   "metadata": {},
   "outputs": [],
   "source": [
    "# Due to high number of classifications it is necessary to combine those which have small values into one class.\n",
    "\n",
    "base_pie_2 = base_pie_2.drop(['Unknown','Hostage Taking (Kidnapping)', 'Hijacking', 'Hostage Taking (Barricade Incident)', 'Unarmed Assault'], axis=0)"
   ]
  },
  {
   "cell_type": "code",
   "execution_count": 46,
   "metadata": {},
   "outputs": [],
   "source": [
    "# New class with the above incorporated created and added to the dataframe\n",
    "\n",
    "base_pie_2.loc['Hostage/Hijack/Other'] = 5.101771"
   ]
  },
  {
   "cell_type": "code",
   "execution_count": 47,
   "metadata": {},
   "outputs": [
    {
     "data": {
      "text/html": [
       "<div>\n",
       "<style scoped>\n",
       "    .dataframe tbody tr th:only-of-type {\n",
       "        vertical-align: middle;\n",
       "    }\n",
       "\n",
       "    .dataframe tbody tr th {\n",
       "        vertical-align: top;\n",
       "    }\n",
       "\n",
       "    .dataframe thead th {\n",
       "        text-align: right;\n",
       "    }\n",
       "</style>\n",
       "<table border=\"1\" class=\"dataframe\">\n",
       "  <thead>\n",
       "    <tr style=\"text-align: right;\">\n",
       "      <th></th>\n",
       "      <th>Percentage</th>\n",
       "    </tr>\n",
       "  </thead>\n",
       "  <tbody>\n",
       "    <tr>\n",
       "      <th>Assassination</th>\n",
       "      <td>2.194026</td>\n",
       "    </tr>\n",
       "    <tr>\n",
       "      <th>Armed Assault</th>\n",
       "      <td>14.750198</td>\n",
       "    </tr>\n",
       "    <tr>\n",
       "      <th>Facility/Infrastructure Attack</th>\n",
       "      <td>27.676447</td>\n",
       "    </tr>\n",
       "    <tr>\n",
       "      <th>Bombing/Explosion</th>\n",
       "      <td>50.277557</td>\n",
       "    </tr>\n",
       "    <tr>\n",
       "      <th>Hostage/Hijack/Other</th>\n",
       "      <td>5.101771</td>\n",
       "    </tr>\n",
       "  </tbody>\n",
       "</table>\n",
       "</div>"
      ],
      "text/plain": [
       "                                Percentage\n",
       "Assassination                     2.194026\n",
       "Armed Assault                    14.750198\n",
       "Facility/Infrastructure Attack   27.676447\n",
       "Bombing/Explosion                50.277557\n",
       "Hostage/Hijack/Other              5.101771"
      ]
     },
     "execution_count": 47,
     "metadata": {},
     "output_type": "execute_result"
    }
   ],
   "source": [
    "# Final dataframe with types of terror attacks and their respective percentage \n",
    "\n",
    "base_pie_2"
   ]
  },
  {
   "cell_type": "code",
   "execution_count": 48,
   "metadata": {},
   "outputs": [],
   "source": [
    "explode = [0.05,0.05,0.05,0.05,0.05]\n",
    "\n",
    "colors = ['orange','blue','green','red', 'c']"
   ]
  },
  {
   "cell_type": "code",
   "execution_count": 49,
   "metadata": {},
   "outputs": [
    {
     "name": "stderr",
     "output_type": "stream",
     "text": [
      "<ipython-input-49-4b3c2a3d833b>:3: MatplotlibDeprecationWarning: Non-1D inputs to pie() are currently squeeze()d, but this behavior is deprecated since 3.1 and will be removed in 3.3; pass a 1D array instead.\n",
      "  plt.pie(base_pie_2, labels=base_pie_2.index, explode = explode, autopct='%1.1f%%', colors = colors )\n"
     ]
    },
    {
     "data": {
      "text/plain": [
       "Text(0.5, 1.0, 'European Terrorist attacks by type')"
      ]
     },
     "execution_count": 49,
     "metadata": {},
     "output_type": "execute_result"
    },
    {
     "data": {
      "image/png": "[encoded data removed]",
      "text/plain": [
       "<Figure size 432x288 with 1 Axes>"
      ]
     },
     "metadata": {},
     "output_type": "display_data"
    }
   ],
   "source": [
    "# Pie graph created using Matplotlib to demonstrate the data from the dataframe above.\n",
    "\n",
    "plt.pie(base_pie_2, labels=base_pie_2.index, explode = explode, autopct='%1.1f%%', colors = colors )\n",
    "plt.title('European Terrorist attacks by type')"
   ]
  },
  {
   "cell_type": "code",
   "execution_count": 50,
   "metadata": {},
   "outputs": [],
   "source": [
    "cols4 = [1,2,3,4,6,7,8,9,10,11,12,13,14,15,16,17,18]"
   ]
  },
  {
   "cell_type": "code",
   "execution_count": 51,
   "metadata": {},
   "outputs": [],
   "source": [
    "# Variable created for our new dataframe to show attacks committed against which European Country.\n",
    "\n",
    "base_bar =  global_terror.drop(global_terror.columns[cols4], axis=1)"
   ]
  },
  {
   "cell_type": "code",
   "execution_count": 52,
   "metadata": {},
   "outputs": [],
   "source": [
    "# Renaming of the country column name\n",
    "\n",
    "base_bar.rename(columns = {'country_txt':'European Country'}, inplace = True)"
   ]
  },
  {
   "cell_type": "code",
   "execution_count": 53,
   "metadata": {},
   "outputs": [],
   "source": [
    "# Place in a dataframe and count the number of times each country appears in the dataframe. This data is sorted in\n",
    "# ascending order.\n",
    "\n",
    "base_bar = pd.DataFrame(base_bar['European Country'].value_counts(ascending=True))"
   ]
  },
  {
   "cell_type": "code",
   "execution_count": 54,
   "metadata": {},
   "outputs": [
    {
     "data": {
      "text/plain": [
       "<matplotlib.legend.Legend at 0x231787f5d30>"
      ]
     },
     "execution_count": 54,
     "metadata": {},
     "output_type": "execute_result"
    },
    {
     "data": {
      "image/png": "[encoded data removed]",
      "text/plain": [
       "<Figure size 432x288 with 1 Axes>"
      ]
     },
     "metadata": {
      "needs_background": "light"
     },
     "output_type": "display_data"
    }
   ],
   "source": [
    "# Bar char used to show the number of attacks.\n",
    "\n",
    "base_bar.plot.bar(color='blue')\n",
    "plt.title('Total Attacks by Country 1999 - 2019')\n",
    "plt.xlabel('Country Name')\n",
    "plt.ylabel('Total number of Attacks')\n",
    "plt.legend(loc='upper left')"
   ]
  },
  {
   "cell_type": "code",
   "execution_count": 55,
   "metadata": {},
   "outputs": [],
   "source": [
    "# New variable used to capture the defence spending as percentage of GDP. Groupby used to capture by country.\n",
    "\n",
    "chart4 = oecd_new['Value'].groupby(oecd_new['LOCATION'])"
   ]
  },
  {
   "cell_type": "code",
   "execution_count": 56,
   "metadata": {},
   "outputs": [],
   "source": [
    "# The mean of the GDP for each year per country is calculated.\n",
    "\n",
    "chart4 = chart4.mean()"
   ]
  },
  {
   "cell_type": "code",
   "execution_count": 57,
   "metadata": {},
   "outputs": [],
   "source": [
    "# Above is placed into a dataframe\n",
    "\n",
    "chart4 = pd.DataFrame(chart4)"
   ]
  },
  {
   "cell_type": "code",
   "execution_count": 58,
   "metadata": {},
   "outputs": [],
   "source": [
    "# Column name is changed to better reflect the values held in the column\n",
    "\n",
    "chart4.rename(columns = {'Value':'Defence Spending - GDP%'}, inplace = True)"
   ]
  },
  {
   "cell_type": "code",
   "execution_count": 59,
   "metadata": {},
   "outputs": [],
   "source": [
    "# sort.values used to order the countries by their GDP spending\n",
    "\n",
    "chart4.sort_values(by=['Defence Spending - GDP%'], inplace=True)"
   ]
  },
  {
   "cell_type": "code",
   "execution_count": 60,
   "metadata": {},
   "outputs": [],
   "source": [
    "chart4.index.names =['Country']"
   ]
  },
  {
   "cell_type": "code",
   "execution_count": 61,
   "metadata": {},
   "outputs": [
    {
     "data": {
      "text/plain": [
       "<matplotlib.legend.Legend at 0x23100510940>"
      ]
     },
     "execution_count": 61,
     "metadata": {},
     "output_type": "execute_result"
    },
    {
     "data": {
      "image/png": "[encoded data removed]",
      "text/plain": [
       "<Figure size 432x288 with 1 Axes>"
      ]
     },
     "metadata": {
      "needs_background": "light"
     },
     "output_type": "display_data"
    }
   ],
   "source": [
    "# Chart created using matplotlib which shows each country defence spending as a percentage of their GDP as a mean over a\n",
    "# 20 year period from 1999 - 2019.\n",
    "\n",
    "chart4.plot.bar(color='blue')\n",
    "plt.title('Defence Spending by European Country 1999 - 2019')\n",
    "plt.ylabel('Percentage of GDP spent on Defence')\n",
    "plt.legend(loc='upper left')"
   ]
  },
  {
   "cell_type": "code",
   "execution_count": null,
   "metadata": {},
   "outputs": [],
   "source": []
  }
 ],
 "metadata": {
  "kernelspec": {
   "display_name": "Python 3",
   "language": "python",
   "name": "python3"
  },
  "language_info": {
   "codemirror_mode": {
    "name": "ipython",
    "version": 3
   },
   "file_extension": ".py",
   "mimetype": "text/x-python",
   "name": "python",
   "nbconvert_exporter": "python",
   "pygments_lexer": "ipython3",
   "version": "3.8.3"
  }
 },
 "nbformat": 4,
 "nbformat_minor": 4
}
